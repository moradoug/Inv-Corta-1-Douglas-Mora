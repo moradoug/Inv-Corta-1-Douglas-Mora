{
 "cells": [
  {
   "cell_type": "markdown",
   "metadata": {},
   "source": [
    "## Instituto Tecnologico de Costa Rica\n",
    "## Escuela de Ingenieria Electronica\n",
    "## Maestria en Electronica\n",
    "## MP-6122 Reconocimiento de Patrones\n",
    "## Investigacion Corta 1\n",
    "## Douglas Mora Ceciliano\n",
    "\n",
    "### Operaciones mas comunes en el pre-procesado de datos con la libreria pandas:\n",
    "\n",
    "### Tipo de variable (Data Frame):\n",
    "\n",
    "Este tipo de bariable es muy similar a una matriz de 2 dimensiones, la diferencia esta en que tanto las columnas como las filas estan indexadas de manera automatica por la subrutina DataFrame. A continuacion podemos obserbar el codigo que define un DataFrame de ejemplo llamado Frame1. El mismo se utilizara como ejemplo basico de las principales operaciones de panda."
   ]
  },
  {
   "cell_type": "code",
   "execution_count": 27,
   "metadata": {},
   "outputs": [
    {
     "name": "stdout",
     "output_type": "stream",
     "text": [
      "Frame1\n",
      "   0  1   2\n",
      "0  1 -2   3\n",
      "1 -4  5  40\n",
      "2  3 -1   0\n"
     ]
    }
   ],
   "source": [
    "#import numpy as np\n",
    "#import pandas as pd\n",
    "\n",
    "Frame1=pd.DataFrame(np.array([[1,-2,3],[-4,5,40],[3,-1,0]]))\n",
    "print('Frame1')\n",
    "print(Frame1)"
   ]
  },
  {
   "cell_type": "markdown",
   "metadata": {},
   "source": [
    "### Subrutinas de obtension de estadisticas de datos\n",
    "\n",
    "Permiten describir nuestro conjunto de datos contenidos en un DataFrame\n",
    "\n",
    "#### SubRutina describe():\n",
    "Esta subrutina describe las principales caracteristicas de un DataFrame.\n",
    "Cada fila esta rotulada con el dato respectivo y cada columna con la fila a la que pertenece cada valor.\n",
    "Por ejemplo si se observa el valor (0,0) corresponde a la cantidad de datos en la fila 0."
   ]
  },
  {
   "cell_type": "code",
   "execution_count": 30,
   "metadata": {},
   "outputs": [
    {
     "name": "stdout",
     "output_type": "stream",
     "text": [
      "Uso basico del comando Describe\n",
      "              0         1          2\n",
      "count  3.000000  3.000000   3.000000\n",
      "mean   0.000000  0.666667  14.333333\n",
      "std    3.605551  3.785939  22.278540\n",
      "min   -4.000000 -2.000000   0.000000\n",
      "25%   -1.500000 -1.500000   1.500000\n",
      "50%    1.000000 -1.000000   3.000000\n",
      "75%    2.000000  2.000000  21.500000\n",
      "max    3.000000  5.000000  40.000000\n"
     ]
    }
   ],
   "source": [
    "print('Uso basico del comando Describe')\n",
    "Desc=Frame1.describe()\n",
    "print(Desc)"
   ]
  },
  {
   "cell_type": "markdown",
   "metadata": {},
   "source": [
    "#### SubRutina mean()\n",
    "Permite obtener el valor promedio de cada una de las columnas del Datarame"
   ]
  },
  {
   "cell_type": "code",
   "execution_count": 31,
   "metadata": {},
   "outputs": [
    {
     "name": "stdout",
     "output_type": "stream",
     "text": [
      "Uso basico del comando Mean\n",
      "0     0.000000\n",
      "1     0.666667\n",
      "2    14.333333\n",
      "dtype: float64\n"
     ]
    }
   ],
   "source": [
    "print('Uso basico del comando Mean')\n",
    "Mean=Frame1.mean()\n",
    "print(Mean)"
   ]
  },
  {
   "cell_type": "markdown",
   "metadata": {},
   "source": [
    "#### SubRutina corr()\n",
    "Permite obtener el valor de coorelacion entre cada una de las columnas del Datarame"
   ]
  },
  {
   "cell_type": "code",
   "execution_count": 36,
   "metadata": {},
   "outputs": [
    {
     "name": "stdout",
     "output_type": "stream",
     "text": [
      "Uso basico del comando Corr\n",
      "          0         1         2\n",
      "0  1.000000 -0.915724 -0.977263\n",
      "1 -0.915724  1.000000  0.980099\n",
      "2 -0.977263  0.980099  1.000000\n"
     ]
    }
   ],
   "source": [
    "print('Uso basico del comando corr')\n",
    "Correlacion=Frame1.corr()\n",
    "print(Correlacion)"
   ]
  },
  {
   "cell_type": "markdown",
   "metadata": {},
   "source": [
    "#### SubRutina std()\n",
    "Permite obtener el valor de desviacion estandar entre cada una de las columnas del Datarame"
   ]
  },
  {
   "cell_type": "code",
   "execution_count": 37,
   "metadata": {},
   "outputs": [
    {
     "name": "stdout",
     "output_type": "stream",
     "text": [
      "Uso basico del comando std\n",
      "0     3.605551\n",
      "1     3.785939\n",
      "2    22.278540\n",
      "dtype: float64\n"
     ]
    }
   ],
   "source": [
    "print('Uso basico del comando std')\n",
    "SD=Frame1.std()\n",
    "print(SD)"
   ]
  },
  {
   "cell_type": "markdown",
   "metadata": {},
   "source": [
    "### Subrutinas de limpieza de datos\n",
    "\n",
    "Muchas veces requeriremos limpiar los datos contenidos en un DataFrame ya sea para eliminar valores nulos o out layers asi como para preparar los datos antes de introducirlos a nuestro algoritmo. Para ello se crea a continuacion la variable Frame2 que contiene valores nulos y outlayers con el objetivo de probar las proximas subrutinas"
   ]
  },
  {
   "cell_type": "code",
   "execution_count": 72,
   "metadata": {},
   "outputs": [
    {
     "name": "stdout",
     "output_type": "stream",
     "text": [
      "Frame2\n",
      "     0    1     2\n",
      "0  1.0 -2.0   3.0\n",
      "1 -4.0  5.0  40.0\n",
      "2  NaN -1.0   0.0\n"
     ]
    }
   ],
   "source": [
    "Frame2=pd.DataFrame(np.array([[1,-2,3],[-4,5,40],[np.nan,-1,0]]))\n",
    "print('Frame2')\n",
    "print(Frame2)"
   ]
  },
  {
   "cell_type": "markdown",
   "metadata": {},
   "source": [
    "#### SubRutina isnull().sum()\n",
    "\n",
    "Permite obtener el numero de valores nulos por columna"
   ]
  },
  {
   "cell_type": "code",
   "execution_count": 74,
   "metadata": {},
   "outputs": [
    {
     "name": "stdout",
     "output_type": "stream",
     "text": [
      "Uso basico del comando isnull().sum()\n",
      "0    1\n",
      "1    0\n",
      "2    0\n",
      "dtype: int64\n"
     ]
    }
   ],
   "source": [
    "print('Uso basico del comando isnull().sum()')\n",
    "nNULL=Frame2.isnull().sum()\n",
    "print(nNULL)"
   ]
  },
  {
   "cell_type": "markdown",
   "metadata": {},
   "source": [
    "#### SubRutina dropna()\n",
    "\n",
    "Permite eliminar cualquier fila con valores nulos"
   ]
  },
  {
   "cell_type": "code",
   "execution_count": 75,
   "metadata": {},
   "outputs": [
    {
     "name": "stdout",
     "output_type": "stream",
     "text": [
      "Uso basico del comando dropna()\n",
      "     0    1     2\n",
      "0  1.0 -2.0   3.0\n",
      "1 -4.0  5.0  40.0\n"
     ]
    }
   ],
   "source": [
    "print('Uso basico del comando dropna()')\n",
    "dRow=Frame2.dropna()\n",
    "print(dRow)"
   ]
  },
  {
   "cell_type": "markdown",
   "metadata": {},
   "source": [
    "#### SubRutina dropna(axis=1)\n",
    "\n",
    "Permite eliminar cualquier columna con valores nulos"
   ]
  },
  {
   "cell_type": "code",
   "execution_count": 76,
   "metadata": {},
   "outputs": [
    {
     "name": "stdout",
     "output_type": "stream",
     "text": [
      "Uso basico del comando dropna(axis=1)\n",
      "     1     2\n",
      "0 -2.0   3.0\n",
      "1  5.0  40.0\n",
      "2 -1.0   0.0\n"
     ]
    }
   ],
   "source": [
    "print('Uso basico del comando dropna(axis=1)')\n",
    "dCol=Frame2.dropna(axis=1)\n",
    "print(dCol)"
   ]
  },
  {
   "cell_type": "markdown",
   "metadata": {},
   "source": [
    "#### SubRutina fillna(n)\n",
    "Se utiliza para reemplazar los valores perdidos con el valor de n"
   ]
  },
  {
   "cell_type": "code",
   "execution_count": 79,
   "metadata": {},
   "outputs": [
    {
     "name": "stdout",
     "output_type": "stream",
     "text": [
      "Uso basico del comando fillna(n)\n",
      "     0    1     2\n",
      "0  1.0 -2.0   3.0\n",
      "1 -4.0  5.0  40.0\n",
      "2  0.0 -1.0   0.0\n"
     ]
    }
   ],
   "source": [
    "print('Uso basico del comando fillna(n)')\n",
    "n=0\n",
    "Fna=Frame2.fillna(n)\n",
    "print(Fna)"
   ]
  },
  {
   "cell_type": "code",
   "execution_count": null,
   "metadata": {},
   "outputs": [],
   "source": []
  },
  {
   "cell_type": "code",
   "execution_count": null,
   "metadata": {},
   "outputs": [],
   "source": []
  },
  {
   "cell_type": "markdown",
   "metadata": {},
   "source": [
    "### identificacion de un dataset y Analisis exploratorio:"
   ]
  }
 ],
 "metadata": {
  "kernelspec": {
   "display_name": "Python 3",
   "language": "python",
   "name": "python3"
  },
  "language_info": {
   "codemirror_mode": {
    "name": "ipython",
    "version": 3
   },
   "file_extension": ".py",
   "mimetype": "text/x-python",
   "name": "python",
   "nbconvert_exporter": "python",
   "pygments_lexer": "ipython3",
   "version": "3.7.3"
  }
 },
 "nbformat": 4,
 "nbformat_minor": 2
}
