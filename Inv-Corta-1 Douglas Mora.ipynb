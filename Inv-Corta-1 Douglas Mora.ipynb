{
 "cells": [
  {
   "cell_type": "markdown",
   "metadata": {},
   "source": [
    "## Instituto Tecnologico de Costa Rica\n",
    "## Escuela de Ingenieria Electronica\n",
    "## Maestria en Electronica\n",
    "## MP-6122 Reconocimiento de Patrones\n",
    "## Investigacion Corta 1\n",
    "## Douglas Mora Ceciliano\n",
    "\n",
    "### Operaciones mas comunes en el pre-procesado de datos con la libreria pandas:\n",
    "\n",
    "### Tipo de variable (Data Frame):\n",
    "\n",
    "Este tipo de bariable es muy similar a una matriz de 2 dimensiones, la diferencia esta en que tanto las columnas como las filas estan indexadas de manera automatica por la subrutina DataFrame. A continuacion podemos obserbar el codigo que define un DataFrame de ejemplo llamado Frame1. El mismo se utilizara como ejemplo basico de las principales operaciones de panda."
   ]
  },
  {
   "cell_type": "code",
   "execution_count": 114,
   "metadata": {},
   "outputs": [
    {
     "name": "stdout",
     "output_type": "stream",
     "text": [
      "Frame1\n",
      "   0  1   2\n",
      "0  1 -2   3\n",
      "1 -4  5  40\n",
      "2  3 -1   0\n"
     ]
    }
   ],
   "source": [
    "#import numpy as np\n",
    "#import pandas as pd\n",
    "\n",
    "Frame1=pd.DataFrame(np.array([[1,-2,3],[-4,5,40],[3,-1,0]]))\n",
    "print('Frame1')\n",
    "print(Frame1)"
   ]
  },
  {
   "cell_type": "markdown",
   "metadata": {},
   "source": [
    "### Subrutinas de obtension de estadisticas de datos\n",
    "\n",
    "Permiten describir nuestro conjunto de datos contenidos en un DataFrame\n",
    "\n",
    "#### SubRutina describe():\n",
    "Esta subrutina describe las principales caracteristicas de un DataFrame.\n",
    "Cada fila esta rotulada con el dato respectivo y cada columna con la fila a la que pertenece cada valor.\n",
    "Por ejemplo si se observa el valor (0,0) corresponde a la cantidad de datos en la fila 0."
   ]
  },
  {
   "cell_type": "code",
   "execution_count": 115,
   "metadata": {},
   "outputs": [
    {
     "name": "stdout",
     "output_type": "stream",
     "text": [
      "Uso basico del comando Describe\n",
      "              0         1          2\n",
      "count  3.000000  3.000000   3.000000\n",
      "mean   0.000000  0.666667  14.333333\n",
      "std    3.605551  3.785939  22.278540\n",
      "min   -4.000000 -2.000000   0.000000\n",
      "25%   -1.500000 -1.500000   1.500000\n",
      "50%    1.000000 -1.000000   3.000000\n",
      "75%    2.000000  2.000000  21.500000\n",
      "max    3.000000  5.000000  40.000000\n"
     ]
    }
   ],
   "source": [
    "print('Uso basico del comando Describe')\n",
    "Desc=Frame1.describe()\n",
    "print(Desc)"
   ]
  },
  {
   "cell_type": "markdown",
   "metadata": {},
   "source": [
    "#### SubRutina mean()\n",
    "Permite obtener el valor promedio de cada una de las columnas del Datarame"
   ]
  },
  {
   "cell_type": "code",
   "execution_count": 116,
   "metadata": {},
   "outputs": [
    {
     "name": "stdout",
     "output_type": "stream",
     "text": [
      "Uso basico del comando Mean\n",
      "0     0.000000\n",
      "1     0.666667\n",
      "2    14.333333\n",
      "dtype: float64\n"
     ]
    }
   ],
   "source": [
    "print('Uso basico del comando Mean')\n",
    "Mean=Frame1.mean()\n",
    "print(Mean)"
   ]
  },
  {
   "cell_type": "markdown",
   "metadata": {},
   "source": [
    "#### SubRutina corr()\n",
    "Permite obtener el valor de coorelacion entre cada una de las columnas del Datarame"
   ]
  },
  {
   "cell_type": "code",
   "execution_count": 117,
   "metadata": {},
   "outputs": [
    {
     "name": "stdout",
     "output_type": "stream",
     "text": [
      "Uso basico del comando corr\n",
      "          0         1         2\n",
      "0  1.000000 -0.915724 -0.977263\n",
      "1 -0.915724  1.000000  0.980099\n",
      "2 -0.977263  0.980099  1.000000\n"
     ]
    }
   ],
   "source": [
    "print('Uso basico del comando corr')\n",
    "Correlacion=Frame1.corr()\n",
    "print(Correlacion)"
   ]
  },
  {
   "cell_type": "markdown",
   "metadata": {},
   "source": [
    "#### SubRutina std()\n",
    "Permite obtener el valor de desviacion estandar entre cada una de las columnas del Datarame"
   ]
  },
  {
   "cell_type": "code",
   "execution_count": 118,
   "metadata": {},
   "outputs": [
    {
     "name": "stdout",
     "output_type": "stream",
     "text": [
      "Uso basico del comando std\n",
      "0     3.605551\n",
      "1     3.785939\n",
      "2    22.278540\n",
      "dtype: float64\n"
     ]
    }
   ],
   "source": [
    "print('Uso basico del comando std')\n",
    "SD=Frame1.std()\n",
    "print(SD)"
   ]
  },
  {
   "cell_type": "markdown",
   "metadata": {},
   "source": [
    "### Subrutinas de limpieza de datos\n",
    "\n",
    "Muchas veces requeriremos limpiar los datos contenidos en un DataFrame ya sea para eliminar valores nulos o out layers asi como para preparar los datos antes de introducirlos a nuestro algoritmo. Para ello se crea a continuacion la variable Frame2 que contiene valores nulos y outlayers con el objetivo de probar las proximas subrutinas"
   ]
  },
  {
   "cell_type": "code",
   "execution_count": 119,
   "metadata": {},
   "outputs": [
    {
     "name": "stdout",
     "output_type": "stream",
     "text": [
      "Frame2\n",
      "     0    1     2\n",
      "0  1.0 -2.0   3.0\n",
      "1 -4.0  5.0  40.0\n",
      "2  NaN -1.0   0.0\n"
     ]
    }
   ],
   "source": [
    "Frame2=pd.DataFrame(np.array([[1,-2,3],[-4,5,40],[np.nan,-1,0]]))\n",
    "print('Frame2')\n",
    "print(Frame2)"
   ]
  },
  {
   "cell_type": "markdown",
   "metadata": {},
   "source": [
    "#### SubRutina isnull().sum()\n",
    "\n",
    "Permite obtener el numero de valores nulos por columna"
   ]
  },
  {
   "cell_type": "code",
   "execution_count": 120,
   "metadata": {},
   "outputs": [
    {
     "name": "stdout",
     "output_type": "stream",
     "text": [
      "Uso basico del comando isnull().sum()\n",
      "0    1\n",
      "1    0\n",
      "2    0\n",
      "dtype: int64\n"
     ]
    }
   ],
   "source": [
    "print('Uso basico del comando isnull().sum()')\n",
    "nNULL=Frame2.isnull().sum()\n",
    "print(nNULL)"
   ]
  },
  {
   "cell_type": "markdown",
   "metadata": {},
   "source": [
    "#### SubRutina dropna()\n",
    "\n",
    "Permite eliminar cualquier fila con valores nulos"
   ]
  },
  {
   "cell_type": "code",
   "execution_count": 121,
   "metadata": {},
   "outputs": [
    {
     "name": "stdout",
     "output_type": "stream",
     "text": [
      "Uso basico del comando dropna()\n",
      "     0    1     2\n",
      "0  1.0 -2.0   3.0\n",
      "1 -4.0  5.0  40.0\n"
     ]
    }
   ],
   "source": [
    "print('Uso basico del comando dropna()')\n",
    "dRow=Frame2.dropna()\n",
    "print(dRow)"
   ]
  },
  {
   "cell_type": "markdown",
   "metadata": {},
   "source": [
    "#### SubRutina dropna(axis=1)\n",
    "\n",
    "Permite eliminar cualquier columna con valores nulos"
   ]
  },
  {
   "cell_type": "code",
   "execution_count": 122,
   "metadata": {},
   "outputs": [
    {
     "name": "stdout",
     "output_type": "stream",
     "text": [
      "Uso basico del comando dropna(axis=1)\n",
      "     1     2\n",
      "0 -2.0   3.0\n",
      "1  5.0  40.0\n",
      "2 -1.0   0.0\n"
     ]
    }
   ],
   "source": [
    "print('Uso basico del comando dropna(axis=1)')\n",
    "dCol=Frame2.dropna(axis=1)\n",
    "print(dCol)"
   ]
  },
  {
   "cell_type": "markdown",
   "metadata": {},
   "source": [
    "#### SubRutina fillna(n)\n",
    "Se utiliza para reemplazar los valores perdidos con el valor de n"
   ]
  },
  {
   "cell_type": "code",
   "execution_count": 123,
   "metadata": {},
   "outputs": [
    {
     "name": "stdout",
     "output_type": "stream",
     "text": [
      "Uso basico del comando fillna(n)\n",
      "     0    1     2\n",
      "0  1.0 -2.0   3.0\n",
      "1 -4.0  5.0  40.0\n",
      "2  0.0 -1.0   0.0\n"
     ]
    }
   ],
   "source": [
    "print('Uso basico del comando fillna(n)')\n",
    "n=0\n",
    "Fna=Frame2.fillna(n)\n",
    "print(Fna)"
   ]
  },
  {
   "cell_type": "markdown",
   "metadata": {},
   "source": [
    "### Identificacion de un dataset, pre-procesado y Analisis exploratorio:\n",
    "\n",
    "En la siguiente seccion se utiliza una serie de datos adjunta para la realizacion de un analisis exploratorio.\n",
    "\n",
    "#### Titulo del set:\n",
    "VideoGame Sales as of 10/26/2016\n",
    "\n",
    "#### Referencia:\n",
    "https://www.kaggle.com/gregorut/videogamesales/downloads/videogamesales.zip/2\n",
    "\n",
    "### Importar set de datos:\n",
    "\n",
    "A continuacion se observa el codigo utilizado para importar los datos."
   ]
  },
  {
   "cell_type": "code",
   "execution_count": 124,
   "metadata": {},
   "outputs": [
    {
     "name": "stdout",
     "output_type": "stream",
     "text": [
      "        Rank                                               Name Platform  \\\n",
      "0          1                                         Wii Sports      Wii   \n",
      "1          2                                  Super Mario Bros.      NES   \n",
      "2          3                                     Mario Kart Wii      Wii   \n",
      "3          4                                  Wii Sports Resort      Wii   \n",
      "4          5                           Pokemon Red/Pokemon Blue       GB   \n",
      "5          6                                             Tetris       GB   \n",
      "6          7                              New Super Mario Bros.       DS   \n",
      "7          8                                           Wii Play      Wii   \n",
      "8          9                          New Super Mario Bros. Wii      Wii   \n",
      "9         10                                          Duck Hunt      NES   \n",
      "10        11                                         Nintendogs       DS   \n",
      "11        12                                      Mario Kart DS       DS   \n",
      "12        13                        Pokemon Gold/Pokemon Silver       GB   \n",
      "13        14                                            Wii Fit      Wii   \n",
      "14        15                                       Wii Fit Plus      Wii   \n",
      "15        16                                 Kinect Adventures!     X360   \n",
      "16        17                                 Grand Theft Auto V      PS3   \n",
      "17        18                      Grand Theft Auto: San Andreas      PS2   \n",
      "18        19                                  Super Mario World     SNES   \n",
      "19        20       Brain Age: Train Your Brain in Minutes a Day       DS   \n",
      "20        21                      Pokemon Diamond/Pokemon Pearl       DS   \n",
      "21        22                                   Super Mario Land       GB   \n",
      "22        23                                Super Mario Bros. 3      NES   \n",
      "23        24                                 Grand Theft Auto V     X360   \n",
      "24        25                        Grand Theft Auto: Vice City      PS2   \n",
      "25        26                      Pokemon Ruby/Pokemon Sapphire      GBA   \n",
      "26        27                        Pokemon Black/Pokemon White       DS   \n",
      "27        28        Brain Age 2: More Training in Minutes a Day       DS   \n",
      "28        29                             Gran Turismo 3: A-Spec      PS2   \n",
      "29        30                     Call of Duty: Modern Warfare 3     X360   \n",
      "...      ...                                                ...      ...   \n",
      "16568  16571                                        XI Coliseum      PSP   \n",
      "16569  16572                                 Resident Evil 4 HD     XOne   \n",
      "16570  16573                      Farming 2017 - The Simulation      PS4   \n",
      "16571  16574         Grisaia no Kajitsu: La Fruit de la Grisaia      PSP   \n",
      "16572  16575                   Scarlett: Nichijou no Kyoukaisen      PS2   \n",
      "16573  16576                                Mini Desktop Racing      Wii   \n",
      "16574  16577  Yattaman Wii: BikkuriDokkiri Machine de Mou Ra...      Wii   \n",
      "16575  16578                              Neo Angelique Special      PSP   \n",
      "16576  16579                                  Rugby Challenge 3     XOne   \n",
      "16577  16580                                          Damnation       PC   \n",
      "16578  16581                      Outdoors Unleashed: Africa 3D      3DS   \n",
      "16579  16582                                  PGA European Tour      N64   \n",
      "16580  16583                                          Real Rode      PS2   \n",
      "16581  16584                                          Fit & Fun      Wii   \n",
      "16582  16585                                    Planet Monsters      GBA   \n",
      "16583  16586                                     Carmageddon 64      N64   \n",
      "16584  16587                                   Bust-A-Move 3000       GC   \n",
      "16585  16588                                             Breach       PC   \n",
      "16586  16589                     Secret Files 2: Puritas Cordis       DS   \n",
      "16587  16590                           Mezase!! Tsuri Master DS       DS   \n",
      "16588  16591                                   Mega Brain Boost       DS   \n",
      "16589  16592  Chou Ezaru wa Akai Hana: Koi wa Tsuki ni Shiru...      PSV   \n",
      "16590  16593  Eiyuu Densetsu: Sora no Kiseki Material Collec...      PSP   \n",
      "16591  16594                                Myst IV: Revelation       PC   \n",
      "16592  16595                                           Plushees       DS   \n",
      "16593  16596                 Woody Woodpecker in Crazy Castle 5      GBA   \n",
      "16594  16597                      Men in Black II: Alien Escape       GC   \n",
      "16595  16598   SCORE International Baja 1000: The Official Game      PS2   \n",
      "16596  16599                                         Know How 2       DS   \n",
      "16597  16600                                   Spirits & Spells      GBA   \n",
      "\n",
      "         Year         Genre                    Publisher  NA_Sales  EU_Sales  \\\n",
      "0      2006.0        Sports                     Nintendo     41.49     29.02   \n",
      "1      1985.0      Platform                     Nintendo     29.08      3.58   \n",
      "2      2008.0        Racing                     Nintendo     15.85     12.88   \n",
      "3      2009.0        Sports                     Nintendo     15.75     11.01   \n",
      "4      1996.0  Role-Playing                     Nintendo     11.27      8.89   \n",
      "5      1989.0        Puzzle                     Nintendo     23.20      2.26   \n",
      "6      2006.0      Platform                     Nintendo     11.38      9.23   \n",
      "7      2006.0          Misc                     Nintendo     14.03      9.20   \n",
      "8      2009.0      Platform                     Nintendo     14.59      7.06   \n",
      "9      1984.0       Shooter                     Nintendo     26.93      0.63   \n",
      "10     2005.0    Simulation                     Nintendo      9.07     11.00   \n",
      "11     2005.0        Racing                     Nintendo      9.81      7.57   \n",
      "12     1999.0  Role-Playing                     Nintendo      9.00      6.18   \n",
      "13     2007.0        Sports                     Nintendo      8.94      8.03   \n",
      "14     2009.0        Sports                     Nintendo      9.09      8.59   \n",
      "15     2010.0          Misc       Microsoft Game Studios     14.97      4.94   \n",
      "16     2013.0        Action         Take-Two Interactive      7.01      9.27   \n",
      "17     2004.0        Action         Take-Two Interactive      9.43      0.40   \n",
      "18     1990.0      Platform                     Nintendo     12.78      3.75   \n",
      "19     2005.0          Misc                     Nintendo      4.75      9.26   \n",
      "20     2006.0  Role-Playing                     Nintendo      6.42      4.52   \n",
      "21     1989.0      Platform                     Nintendo     10.83      2.71   \n",
      "22     1988.0      Platform                     Nintendo      9.54      3.44   \n",
      "23     2013.0        Action         Take-Two Interactive      9.63      5.31   \n",
      "24     2002.0        Action         Take-Two Interactive      8.41      5.49   \n",
      "25     2002.0  Role-Playing                     Nintendo      6.06      3.90   \n",
      "26     2010.0  Role-Playing                     Nintendo      5.57      3.28   \n",
      "27     2005.0        Puzzle                     Nintendo      3.44      5.36   \n",
      "28     2001.0        Racing  Sony Computer Entertainment      6.85      5.09   \n",
      "29     2011.0       Shooter                   Activision      9.03      4.28   \n",
      "...       ...           ...                          ...       ...       ...   \n",
      "16568  2006.0        Puzzle  Sony Computer Entertainment      0.00      0.00   \n",
      "16569  2016.0       Shooter                       Capcom      0.01      0.00   \n",
      "16570  2016.0    Simulation            UIG Entertainment      0.00      0.01   \n",
      "16571  2013.0     Adventure                    Prototype      0.00      0.00   \n",
      "16572  2008.0     Adventure              Kadokawa Shoten      0.00      0.00   \n",
      "16573  2007.0        Racing               Popcorn Arcade      0.01      0.00   \n",
      "16574  2008.0        Racing                  Takara Tomy      0.00      0.00   \n",
      "16575  2008.0     Adventure                   Tecmo Koei      0.00      0.00   \n",
      "16576  2016.0        Sports         Alternative Software      0.00      0.01   \n",
      "16577  2009.0       Shooter                  Codemasters      0.00      0.01   \n",
      "16578  2011.0        Sports                      Mastiff      0.01      0.00   \n",
      "16579  2000.0        Sports                   Infogrames      0.01      0.00   \n",
      "16580  2008.0     Adventure              Kadokawa Shoten      0.00      0.00   \n",
      "16581  2011.0        Sports                      Unknown      0.00      0.01   \n",
      "16582  2001.0        Action                        Titus      0.01      0.00   \n",
      "16583  1999.0        Action           Virgin Interactive      0.01      0.00   \n",
      "16584  2003.0        Puzzle                      Ubisoft      0.01      0.00   \n",
      "16585  2011.0       Shooter                    Destineer      0.01      0.00   \n",
      "16586  2009.0     Adventure                  Deep Silver      0.00      0.01   \n",
      "16587  2009.0        Sports                  Hudson Soft      0.00      0.00   \n",
      "16588  2008.0        Puzzle        Majesco Entertainment      0.01      0.00   \n",
      "16589  2016.0        Action              dramatic create      0.00      0.00   \n",
      "16590  2007.0  Role-Playing           Falcom Corporation      0.00      0.00   \n",
      "16591  2004.0     Adventure                      Ubisoft      0.01      0.00   \n",
      "16592  2008.0    Simulation                    Destineer      0.01      0.00   \n",
      "16593  2002.0      Platform                        Kemco      0.01      0.00   \n",
      "16594  2003.0       Shooter                   Infogrames      0.01      0.00   \n",
      "16595  2008.0        Racing                   Activision      0.00      0.00   \n",
      "16596  2010.0        Puzzle                     7G//AMES      0.00      0.01   \n",
      "16597  2003.0      Platform                      Wanadoo      0.01      0.00   \n",
      "\n",
      "       JP_Sales  Other_Sales  Global_Sales  \n",
      "0          3.77         8.46         82.74  \n",
      "1          6.81         0.77         40.24  \n",
      "2          3.79         3.31         35.82  \n",
      "3          3.28         2.96         33.00  \n",
      "4         10.22         1.00         31.37  \n",
      "5          4.22         0.58         30.26  \n",
      "6          6.50         2.90         30.01  \n",
      "7          2.93         2.85         29.02  \n",
      "8          4.70         2.26         28.62  \n",
      "9          0.28         0.47         28.31  \n",
      "10         1.93         2.75         24.76  \n",
      "11         4.13         1.92         23.42  \n",
      "12         7.20         0.71         23.10  \n",
      "13         3.60         2.15         22.72  \n",
      "14         2.53         1.79         22.00  \n",
      "15         0.24         1.67         21.82  \n",
      "16         0.97         4.14         21.40  \n",
      "17         0.41        10.57         20.81  \n",
      "18         3.54         0.55         20.61  \n",
      "19         4.16         2.05         20.22  \n",
      "20         6.04         1.37         18.36  \n",
      "21         4.18         0.42         18.14  \n",
      "22         3.84         0.46         17.28  \n",
      "23         0.06         1.38         16.38  \n",
      "24         0.47         1.78         16.15  \n",
      "25         5.38         0.50         15.85  \n",
      "26         5.65         0.82         15.32  \n",
      "27         5.32         1.18         15.30  \n",
      "28         1.87         1.16         14.98  \n",
      "29         0.13         1.32         14.76  \n",
      "...         ...          ...           ...  \n",
      "16568      0.01         0.00          0.01  \n",
      "16569      0.00         0.00          0.01  \n",
      "16570      0.00         0.00          0.01  \n",
      "16571      0.01         0.00          0.01  \n",
      "16572      0.01         0.00          0.01  \n",
      "16573      0.00         0.00          0.01  \n",
      "16574      0.01         0.00          0.01  \n",
      "16575      0.01         0.00          0.01  \n",
      "16576      0.00         0.00          0.01  \n",
      "16577      0.00         0.00          0.01  \n",
      "16578      0.00         0.00          0.01  \n",
      "16579      0.00         0.00          0.01  \n",
      "16580      0.01         0.00          0.01  \n",
      "16581      0.00         0.00          0.01  \n",
      "16582      0.00         0.00          0.01  \n",
      "16583      0.00         0.00          0.01  \n",
      "16584      0.00         0.00          0.01  \n",
      "16585      0.00         0.00          0.01  \n",
      "16586      0.00         0.00          0.01  \n",
      "16587      0.01         0.00          0.01  \n",
      "16588      0.00         0.00          0.01  \n",
      "16589      0.01         0.00          0.01  \n",
      "16590      0.01         0.00          0.01  \n",
      "16591      0.00         0.00          0.01  \n",
      "16592      0.00         0.00          0.01  \n",
      "16593      0.00         0.00          0.01  \n",
      "16594      0.00         0.00          0.01  \n",
      "16595      0.00         0.00          0.01  \n",
      "16596      0.00         0.00          0.01  \n",
      "16597      0.00         0.00          0.01  \n",
      "\n",
      "[16598 rows x 11 columns]\n"
     ]
    }
   ],
   "source": [
    "Frame3=pd.read_csv('vgsales.csv')\n",
    "print(Frame3)"
   ]
  },
  {
   "cell_type": "markdown",
   "metadata": {},
   "source": [
    "#### Subrutina shape()\n",
    "Utilizando la instruccion shape podemos ver la dimension de nuestro DataFrame."
   ]
  },
  {
   "cell_type": "code",
   "execution_count": 125,
   "metadata": {},
   "outputs": [
    {
     "name": "stdout",
     "output_type": "stream",
     "text": [
      " Filas Columnas\n",
      "(16598, 11)\n"
     ]
    }
   ],
   "source": [
    "print (' Filas Columnas')\n",
    "print (Frame3.shape)"
   ]
  },
  {
   "cell_type": "markdown",
   "metadata": {},
   "source": [
    "#### Limpiando Nulls\n",
    "Utilizando el codigo mensionado en la parte 1 buscaremos identificar si hay algun valor nulo."
   ]
  },
  {
   "cell_type": "code",
   "execution_count": 126,
   "metadata": {},
   "outputs": [
    {
     "name": "stdout",
     "output_type": "stream",
     "text": [
      "Identificacion de cantidad de valores nulos\n",
      "Rank              0\n",
      "Name              0\n",
      "Platform          0\n",
      "Year            271\n",
      "Genre             0\n",
      "Publisher        58\n",
      "NA_Sales          0\n",
      "EU_Sales          0\n",
      "JP_Sales          0\n",
      "Other_Sales       0\n",
      "Global_Sales      0\n",
      "dtype: int64\n"
     ]
    }
   ],
   "source": [
    "print('Identificacion de cantidad de valores nulos')\n",
    "nNULL=Frame3.isnull().sum()\n",
    "print(nNULL)"
   ]
  },
  {
   "cell_type": "markdown",
   "metadata": {},
   "source": [
    "Al identificar que si existen valores nulos se opta por eliminar las filas que incluyan valores nulos."
   ]
  },
  {
   "cell_type": "code",
   "execution_count": 127,
   "metadata": {},
   "outputs": [
    {
     "name": "stdout",
     "output_type": "stream",
     "text": [
      "Uso basico del comando dropna()\n",
      "Rank            0\n",
      "Name            0\n",
      "Platform        0\n",
      "Year            0\n",
      "Genre           0\n",
      "Publisher       0\n",
      "NA_Sales        0\n",
      "EU_Sales        0\n",
      "JP_Sales        0\n",
      "Other_Sales     0\n",
      "Global_Sales    0\n",
      "dtype: int64\n"
     ]
    }
   ],
   "source": [
    "print('Uso basico del comando dropna()')\n",
    "Frame3n=Frame3.dropna()\n",
    "nNULL=Frame3n.isnull().sum()\n",
    "print(nNULL)"
   ]
  },
  {
   "cell_type": "code",
   "execution_count": 128,
   "metadata": {},
   "outputs": [
    {
     "name": "stdout",
     "output_type": "stream",
     "text": [
      " Filas Columnas\n",
      "(16291, 11)\n"
     ]
    }
   ],
   "source": [
    "print (' Filas Columnas')\n",
    "print (Frame3n.shape)"
   ]
  },
  {
   "cell_type": "markdown",
   "metadata": {},
   "source": [
    "Como se observa se han eliminado todas las filas que antes contenian valores faltantes."
   ]
  },
  {
   "cell_type": "markdown",
   "metadata": {},
   "source": [
    "### Analisis exploratorio\n",
    "\n",
    "Se utiliza la instruccion describe, descrita en la parte 1  para obtener una idea general de los datos."
   ]
  },
  {
   "cell_type": "code",
   "execution_count": 129,
   "metadata": {},
   "outputs": [
    {
     "name": "stdout",
     "output_type": "stream",
     "text": [
      "Estadisticas basicas de Frame3\n",
      "               Rank          Year      NA_Sales      EU_Sales      JP_Sales  \\\n",
      "count  16291.000000  16291.000000  16291.000000  16291.000000  16291.000000   \n",
      "mean    8290.190228   2006.405561      0.265647      0.147731      0.078833   \n",
      "std     4792.654450      5.832412      0.822432      0.509303      0.311879   \n",
      "min        1.000000   1980.000000      0.000000      0.000000      0.000000   \n",
      "25%     4132.500000   2003.000000      0.000000      0.000000      0.000000   \n",
      "50%     8292.000000   2007.000000      0.080000      0.020000      0.000000   \n",
      "75%    12439.500000   2010.000000      0.240000      0.110000      0.040000   \n",
      "max    16600.000000   2020.000000     41.490000     29.020000     10.220000   \n",
      "\n",
      "        Other_Sales  Global_Sales  \n",
      "count  16291.000000  16291.000000  \n",
      "mean       0.048426      0.540910  \n",
      "std        0.190083      1.567345  \n",
      "min        0.000000      0.010000  \n",
      "25%        0.000000      0.060000  \n",
      "50%        0.010000      0.170000  \n",
      "75%        0.040000      0.480000  \n",
      "max       10.570000     82.740000  \n"
     ]
    }
   ],
   "source": [
    "print ('Estadisticas basicas de Frame3')\n",
    "Desc=Frame3n.describe()\n",
    "print(Desc)"
   ]
  },
  {
   "cell_type": "markdown",
   "metadata": {},
   "source": [
    "#### Subrutina crosstab(X,Y)\n",
    "\n",
    "Como parte del analisis exploratorio se puede hacer analisis cruzado para ellos se utiliza el siguiente codigo:"
   ]
  },
  {
   "cell_type": "code",
   "execution_count": 130,
   "metadata": {},
   "outputs": [
    {
     "name": "stdout",
     "output_type": "stream",
     "text": [
      "Cantidad Genero por Año\n",
      "Genre   Action  Adventure  Fighting  Misc  Platform  Puzzle  Racing  \\\n",
      "Year                                                                  \n",
      "1980.0       1          0         1     4         0       0       0   \n",
      "1981.0      25          0         0     0         3       2       1   \n",
      "1982.0      18          0         0     1         5       3       2   \n",
      "1983.0       7          1         0     1         5       1       0   \n",
      "1984.0       1          0         0     1         1       3       3   \n",
      "1985.0       2          0         1     0         4       4       0   \n",
      "1986.0       6          0         0     0         6       0       1   \n",
      "1987.0       2          1         2     0         2       0       0   \n",
      "1988.0       2          0         0     0         4       1       1   \n",
      "1989.0       2          0         0     1         3       5       0   \n",
      "1990.0       3          0         0     0         3       2       2   \n",
      "1991.0       5          2         1     1         6       4       1   \n",
      "1992.0       1          4         7     2         6       5       2   \n",
      "1993.0       6          1        11     3        11       3       2   \n",
      "1994.0       4          4        22     6        11       3       8   \n",
      "1995.0       8         13        29    22        13      12      12   \n",
      "1996.0      20         17        30    23        14       9      22   \n",
      "1997.0      31         14        28    12        18      14      36   \n",
      "1998.0      44         23        41    22        25      13      49   \n",
      "1999.0      40         19        24    25        18       6      49   \n",
      "2000.0      44         16        29    20        24      12      43   \n",
      "2001.0      67         21        18    26        43      15      71   \n",
      "2002.0     125         42        54    45        77      20     103   \n",
      "2003.0     144         12        44    53        87       8     109   \n",
      "2004.0     125         38        39    67        66      25      71   \n",
      "2005.0     192         42        43   110        83      33      77   \n",
      "2006.0     184         71        55   109        54      43      75   \n",
      "2007.0     211         84        50   150        42      66      86   \n",
      "2008.0     221        166        57   212        62      64      82   \n",
      "2009.0     272        141        53   207        29      79      84   \n",
      "2010.0     226        154        40   201        31      45      57   \n",
      "2011.0     239        108        50   184        37      43      64   \n",
      "2012.0     265         58        29    38        11      11      30   \n",
      "2013.0     148         60        20    42        37       3      16   \n",
      "2014.0     186         75        23    41        10       7      27   \n",
      "2015.0     255         54        21    39        14       6      19   \n",
      "2016.0     118         33        14    18        10       0      20   \n",
      "2017.0       1          0         0     0         0       0       0   \n",
      "2020.0       0          0         0     0         0       0       0   \n",
      "\n",
      "Genre   Role-Playing  Shooter  Simulation  Sports  Strategy  \n",
      "Year                                                         \n",
      "1980.0             0        2           0       1         0  \n",
      "1981.0             0       10           1       4         0  \n",
      "1982.0             0        5           0       2         0  \n",
      "1983.0             0        1           0       1         0  \n",
      "1984.0             0        3           0       2         0  \n",
      "1985.0             0        1           1       1         0  \n",
      "1986.0             1        4           0       3         0  \n",
      "1987.0             3        2           0       4         0  \n",
      "1988.0             3        1           1       2         0  \n",
      "1989.0             2        1           0       3         0  \n",
      "1990.0             2        0           1       3         0  \n",
      "1991.0             5        3           2       7         4  \n",
      "1992.0             5        3           1       4         3  \n",
      "1993.0             9        2           1       9         2  \n",
      "1994.0            17       11           7      22         6  \n",
      "1995.0            24       29          14      29        14  \n",
      "1996.0            28       23          13      52        12  \n",
      "1997.0            23       27          19      46        21  \n",
      "1998.0            26       23           8      70        35  \n",
      "1999.0            33       16          20      62        26  \n",
      "2000.0            29       20          15      81        16  \n",
      "2001.0            41       36          28      96        20  \n",
      "2002.0            55       79          19     188        22  \n",
      "2003.0            48       73          35     125        37  \n",
      "2004.0            60       88          27     106        32  \n",
      "2005.0            71       96          38     122        29  \n",
      "2006.0           110       69          58     138        42  \n",
      "2007.0           103       85          90     167        67  \n",
      "2008.0           112       83         119     200        50  \n",
      "2009.0           103       91         123     184        65  \n",
      "2010.0           103       81          80     186        53  \n",
      "2011.0            95       94          55     122        45  \n",
      "2012.0            78       48          18      54        15  \n",
      "2013.0            71       59          18      53        19  \n",
      "2014.0            90       47          11      55         8  \n",
      "2015.0            78       34          15      62        17  \n",
      "2016.0            40       32           9      38        10  \n",
      "2017.0             2        0           0       0         0  \n",
      "2020.0             0        0           1       0         0  \n"
     ]
    }
   ],
   "source": [
    "print ('Cantidad Genero por Año')\n",
    "GenvsYear=pd.crosstab(Frame3n.Year, Frame3.Genre)\n",
    "print(GenvsYear)"
   ]
  },
  {
   "cell_type": "markdown",
   "metadata": {},
   "source": [
    "Ademas es posible agrupar mas de una columna como se muestra acontinuacion"
   ]
  },
  {
   "cell_type": "code",
   "execution_count": 131,
   "metadata": {},
   "outputs": [
    {
     "name": "stdout",
     "output_type": "stream",
     "text": [
      "Ventas Globales por Plataforma por Empresa\n",
      "Publisher                     Platform\n",
      "10TACLE Studios               DS          0.045000\n",
      "                              PS2         0.020000\n",
      "1C Company                    PC          0.033333\n",
      "20th Century Fox Video Games  2600        0.388000\n",
      "2D Boy                        PC          0.040000\n",
      "3DO                           GC          0.010000\n",
      "                              N64         0.438000\n",
      "                              PS          0.370625\n",
      "                              PS2         0.146923\n",
      "                              XB          0.080000\n",
      "49Games                       X360        0.040000\n",
      "505 Games                     3DS         0.266667\n",
      "                              DS          0.306462\n",
      "                              PC          0.060000\n",
      "                              PS2         0.122273\n",
      "                              PS3         0.332667\n",
      "                              PS4         0.236667\n",
      "                              PSP         0.121000\n",
      "                              PSV         0.090000\n",
      "                              Wii         0.502000\n",
      "                              WiiU        0.025000\n",
      "                              X360        0.321481\n",
      "                              XB          0.050000\n",
      "                              XOne        0.118333\n",
      "5pb                           3DS         0.040000\n",
      "                              PS2         0.027143\n",
      "                              PS3         0.033000\n",
      "                              PS4         0.010000\n",
      "                              PSP         0.026667\n",
      "                              PSV         0.020714\n",
      "                                            ...   \n",
      "Yeti                          PSP         0.024000\n",
      "                              X360        0.010000\n",
      "Yuke's                        PS2         0.026667\n",
      "Yumedia                       SAT         0.060000\n",
      "Zenrin                        PSP         0.030000\n",
      "Zoo Digital Publishing        DS          0.079615\n",
      "                              GBA         0.105263\n",
      "                              GC          0.020000\n",
      "                              PS2         0.283636\n",
      "                              Wii         0.129444\n",
      "                              XB          0.133000\n",
      "Zoo Games                     DS          0.082000\n",
      "                              Wii         0.167273\n",
      "                              X360        0.320000\n",
      "Zushi Games                   DS          0.028571\n",
      "                              PSP         0.130000\n",
      "                              Wii         0.166250\n",
      "                              X360        0.115000\n",
      "bitComposer Games             PC          0.046667\n",
      "                              PS3         0.190000\n",
      "                              X360        0.080000\n",
      "dramatic create               PSV         0.022000\n",
      "fonfun                        PSP         0.020000\n",
      "iWin                          DS          0.060000\n",
      "id Software                   PC          0.030000\n",
      "imageepoch Inc.               3DS         0.020000\n",
      "inXile Entertainment          PC          0.100000\n",
      "mixi, Inc                     3DS         0.860000\n",
      "responDESIGN                  PS2         0.040000\n",
      "                              XB          0.090000\n",
      "Name: Global_Sales, Length: 1792, dtype: float64\n"
     ]
    }
   ],
   "source": [
    "print('Ventas Globales por Plataforma por Empresa')\n",
    "ConsolavsGlobalS=Frame3n.groupby(['Publisher','Platform'])['Global_Sales'].mean()\n",
    "print(ConsolavsGlobalS)"
   ]
  },
  {
   "cell_type": "code",
   "execution_count": null,
   "metadata": {},
   "outputs": [],
   "source": []
  }
 ],
 "metadata": {
  "kernelspec": {
   "display_name": "Python 3",
   "language": "python",
   "name": "python3"
  },
  "language_info": {
   "codemirror_mode": {
    "name": "ipython",
    "version": 3
   },
   "file_extension": ".py",
   "mimetype": "text/x-python",
   "name": "python",
   "nbconvert_exporter": "python",
   "pygments_lexer": "ipython3",
   "version": "3.7.3"
  }
 },
 "nbformat": 4,
 "nbformat_minor": 2
}
